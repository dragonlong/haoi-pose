{
 "cells": [
  {
   "cell_type": "code",
   "execution_count": 1,
   "metadata": {},
   "outputs": [],
   "source": [
    "import os\n",
    "import glob\n",
    "import time\n",
    "import shutil\n",
    "import argparse\n",
    "import numpy as np\n",
    "from tqdm import tqdm\n",
    "from collections import defaultdict\n",
    "import pandas as pd\n",
    "import hydra\n",
    "from hydra import utils\n",
    "from omegaconf import DictConfig, ListConfig, OmegaConf\n",
    "import torch\n",
    "import igl\n",
    "import meshplot\n",
    "from meshplot import plot, subplot, interact\n",
    "\n",
    "# custom\n",
    "import __init__\n",
    "from global_info import global_info"
   ]
  },
  {
   "cell_type": "code",
   "execution_count": 2,
   "metadata": {},
   "outputs": [],
   "source": [
    "infos     = global_info()\n",
    "my_dir    = infos.base_path\n",
    "group_path= infos.group_path\n",
    "second_path = infos.second_path\n",
    "render_path = infos.render_path\n",
    "viz_path  = infos.viz_path\n",
    "hand_mesh = infos.hand_mesh\n",
    "hand_urdf = infos.hand_urdf\n",
    "grasps_meta  = infos.grasps_meta\n",
    "mano_path    = infos.mano_path\n",
    "\n",
    "whole_obj = infos.whole_obj\n",
    "part_obj  = infos.part_obj\n",
    "obj_urdf  = infos.obj_urdf\n",
    "\n",
    "categories = infos.categories\n",
    "categories_list = infos.categories_list\n"
   ]
  },
  {
   "cell_type": "code",
   "execution_count": 3,
   "metadata": {},
   "outputs": [],
   "source": [
    "def get_index_per_category(generation_dir, ShapeNetCore_dir, id):\n",
    "    # pred_path\n",
    "    # /groups/CESCA-CV/ICML2021/model/obman/2.06/generation/meshes/0\n",
    "    input_path = f'{generation_dir}/input/{categories_list.index(id)}'\n",
    "    pred_path = f'{generation_dir}/meshes/{categories_list.index(id)}'\n",
    "    mesh_names= os.listdir(pred_path)\n",
    "\n",
    "    # data path\n",
    "    gt_path = f'{ShapeNetCore_dir}/{id}'\n",
    "\n",
    "    # loop by predictions\n",
    "    pairs_dict = {}\n",
    "    for mesh_name in mesh_names:\n",
    "        key = mesh_name.split('.')[0]\n",
    "        input_ply= input_path + f'/{key}.ply'\n",
    "        pred_obj = pred_path + f'/{mesh_name}'\n",
    "        gt_obj   = gt_path + f'/{key}/models/model_normalized.obj'\n",
    "        pairs_dict[key] = [input_ply, pred_obj, gt_obj]\n",
    "\n",
    "    return pairs_dict"
   ]
  },
  {
   "cell_type": "code",
   "execution_count": 7,
   "metadata": {
    "scrolled": false
   },
   "outputs": [
    {
     "name": "stdout",
     "output_type": "stream",
     "text": [
      "['02876657']\n"
     ]
    },
    {
     "data": {
      "application/vnd.jupyter.widget-view+json": {
       "model_id": "4e697a994d844e68ab6167f98091c890",
       "version_major": 2,
       "version_minor": 0
      },
      "text/plain": [
       "HBox(children=(Output(), Output(), Output()))"
      ]
     },
     "metadata": {},
     "output_type": "display_data"
    },
    {
     "data": {
      "application/vnd.jupyter.widget-view+json": {
       "model_id": "20469889f3164bb191c45e12becee5a6",
       "version_major": 2,
       "version_minor": 0
      },
      "text/plain": [
       "HBox(children=(Output(), Output(), Output()))"
      ]
     },
     "metadata": {},
     "output_type": "display_data"
    },
    {
     "data": {
      "application/vnd.jupyter.widget-view+json": {
       "model_id": "7fdcadd146a741cdaa1d4d1c83cb5788",
       "version_major": 2,
       "version_minor": 0
      },
      "text/plain": [
       "HBox(children=(Output(), Output(), Output()))"
      ]
     },
     "metadata": {},
     "output_type": "display_data"
    },
    {
     "data": {
      "application/vnd.jupyter.widget-view+json": {
       "model_id": "e2a3277890f140228beace24481ed5f0",
       "version_major": 2,
       "version_minor": 0
      },
      "text/plain": [
       "HBox(children=(Output(), Output(), Output()))"
      ]
     },
     "metadata": {},
     "output_type": "display_data"
    },
    {
     "data": {
      "application/vnd.jupyter.widget-view+json": {
       "model_id": "da1900225a5d4bf788892dd91eddc97b",
       "version_major": 2,
       "version_minor": 0
      },
      "text/plain": [
       "HBox(children=(Output(), Output(), Output()))"
      ]
     },
     "metadata": {},
     "output_type": "display_data"
    },
    {
     "data": {
      "application/vnd.jupyter.widget-view+json": {
       "model_id": "1034b0bfff8f40139dca7886cec19829",
       "version_major": 2,
       "version_minor": 0
      },
      "text/plain": [
       "HBox(children=(Output(), Output(), Output()))"
      ]
     },
     "metadata": {},
     "output_type": "display_data"
    },
    {
     "data": {
      "application/vnd.jupyter.widget-view+json": {
       "model_id": "43e6cadecd344b2e82efd4c6753b023c",
       "version_major": 2,
       "version_minor": 0
      },
      "text/plain": [
       "HBox(children=(Output(), Output(), Output()))"
      ]
     },
     "metadata": {},
     "output_type": "display_data"
    },
    {
     "data": {
      "application/vnd.jupyter.widget-view+json": {
       "model_id": "843c8696389a4627ac9f30ab86918d01",
       "version_major": 2,
       "version_minor": 0
      },
      "text/plain": [
       "HBox(children=(Output(), Output(), Output()))"
      ]
     },
     "metadata": {},
     "output_type": "display_data"
    },
    {
     "data": {
      "application/vnd.jupyter.widget-view+json": {
       "model_id": "74f83289d5c14927b3f0215750c4c74f",
       "version_major": 2,
       "version_minor": 0
      },
      "text/plain": [
       "HBox(children=(Output(), Output(), Output()))"
      ]
     },
     "metadata": {},
     "output_type": "display_data"
    },
    {
     "data": {
      "application/vnd.jupyter.widget-view+json": {
       "model_id": "1d32b2a8cfa140bfa015a8dd3b234bc1",
       "version_major": 2,
       "version_minor": 0
      },
      "text/plain": [
       "HBox(children=(Output(), Output(), Output()))"
      ]
     },
     "metadata": {},
     "output_type": "display_data"
    },
    {
     "data": {
      "application/vnd.jupyter.widget-view+json": {
       "model_id": "497f94a679ec4c4db546367f786ec299",
       "version_major": 2,
       "version_minor": 0
      },
      "text/plain": [
       "HBox(children=(Output(), Output(), Output()))"
      ]
     },
     "metadata": {},
     "output_type": "display_data"
    }
   ],
   "source": [
    "generation_dir = '/home/dragon/Documents/ICML2021/model/obman/2.06/generation'\n",
    "use_category_id= True\n",
    "if use_category_id:\n",
    "    category_ids    = [categories['bottle']]\n",
    "else:\n",
    "    category_ids    = [id for key, id in categories.items()]\n",
    "print(category_ids)\n",
    "ShapeNetCore_dir    = group_path + '/external/ShapeNetCore.v2'\n",
    "num = 0\n",
    "start_num = 20\n",
    "end_num   = 30\n",
    "for id in category_ids:\n",
    "    pairs_dict = get_index_per_category(generation_dir, ShapeNetCore_dir, id)\n",
    "    for instance_id, index_pair in pairs_dict.items():\n",
    "        num +=1 \n",
    "        if num < start_num:\n",
    "            continue\n",
    "        if num > end_num:\n",
    "            break\n",
    "        input_pts, _ = igl.read_triangle_mesh(index_pair[0])\n",
    "        v1, f1 = igl.read_triangle_mesh(index_pair[1])\n",
    "        v2, f2 = igl.read_triangle_mesh(index_pair[2])\n",
    "        p = subplot(input_pts, c=None, shading={\"point_size\": 0.2}, s=[1, 3, 0])\n",
    "        subplot1 = subplot(v1, f1, c=None, shading={\"point_size\": 0.2}, s=[1, 3, 1], data=p)\n",
    "        subplot2 = subplot(v2, f2, c=None, shading={\"point_size\": 0.2}, s=[1, 3, 2], data=p)\n",
    "#         p.save(\"test2.html\")"
   ]
  },
  {
   "cell_type": "code",
   "execution_count": 5,
   "metadata": {},
   "outputs": [
    {
     "data": {
      "application/vnd.jupyter.widget-view+json": {
       "model_id": "241275689b784908b3f46fc7b9c4513b",
       "version_major": 2,
       "version_minor": 0
      },
      "text/plain": [
       "HBox(children=(Output(), Output(), Output()))"
      ]
     },
     "metadata": {},
     "output_type": "display_data"
    }
   ],
   "source": [
    "p1 = subplot(input_pts, c=None, shading={\"point_size\": 0.2}, s=[1, 3, 0])\n",
    "subplot1 = subplot(v1, f1, c=None, shading={\"point_size\": 0.2}, s=[1, 3, 1], data=p1)\n",
    "subplot2 = subplot(v2, f2, c=None, shading={\"point_size\": 0.2}, s=[1, 3, 2], data=p1)\n",
    "#         p.save(\"test2.html\")"
   ]
  },
  {
   "cell_type": "code",
   "execution_count": null,
   "metadata": {},
   "outputs": [],
   "source": []
  }
 ],
 "metadata": {
  "kernelspec": {
   "display_name": "Python 3",
   "language": "python",
   "name": "python3"
  },
  "language_info": {
   "codemirror_mode": {
    "name": "ipython",
    "version": 3
   },
   "file_extension": ".py",
   "mimetype": "text/x-python",
   "name": "python",
   "nbconvert_exporter": "python",
   "pygments_lexer": "ipython3",
   "version": "3.6.9"
  }
 },
 "nbformat": 4,
 "nbformat_minor": 2
}
