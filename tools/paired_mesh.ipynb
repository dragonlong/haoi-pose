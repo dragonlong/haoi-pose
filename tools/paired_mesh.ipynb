{
 "cells": [
  {
   "cell_type": "code",
   "execution_count": 2,
   "metadata": {},
   "outputs": [],
   "source": [
    "import os\n",
    "import glob\n",
    "import time\n",
    "import shutil\n",
    "import argparse\n",
    "import numpy as np\n",
    "from tqdm import tqdm\n",
    "from collections import defaultdict\n",
    "import pandas as pd\n",
    "import hydra\n",
    "from hydra import utils\n",
    "from omegaconf import DictConfig, ListConfig, OmegaConf\n",
    "import torch\n",
    "import igl\n",
    "import meshplot\n",
    "from meshplot import plot, subplot, interact\n",
    "\n",
    "# custom\n",
    "import __init__\n",
    "from global_info import global_info\n",
    "from dataset.dataset_parser import DatasetParser\n",
    "from common.train_utils import CheckpointIO\n",
    "from common import bp\n",
    "\n",
    "# try using custom packages\n",
    "infos     = global_info()\n",
    "my_dir    = infos.base_path\n",
    "group_path= infos.group_path\n",
    "second_path = infos.second_path\n",
    "render_path = infos.render_path\n",
    "viz_path  = infos.viz_path\n",
    "hand_mesh = infos.hand_mesh\n",
    "hand_urdf = infos.hand_urdf\n",
    "grasps_meta  = infos.grasps_meta\n",
    "mano_path    = infos.mano_path\n",
    "\n",
    "whole_obj = infos.whole_obj\n",
    "part_obj  = infos.part_obj\n",
    "obj_urdf  = infos.obj_urdf\n",
    "\n",
    "categories = infos.categories\n",
    "categories_list = infos.categories_list"
   ]
  },
  {
   "cell_type": "code",
   "execution_count": 1,
   "metadata": {},
   "outputs": [
    {
     "name": "stderr",
     "output_type": "stream",
     "text": [
      "/home/dragon/miniconda3/envs/py36/lib/python3.6/site-packages/hydra/core/plugins.py:208: UserWarning: \n",
      "\tError importing 'hydra_plugins.hydra_colorlog'.\n",
      "\tPlugin is incompatible with this Hydra version or buggy.\n",
      "\tRecommended to uninstall or upgrade plugin.\n",
      "\t\tImportError : cannot import name 'SearchPathPlugin'\n",
      "  category=UserWarning,\n",
      "usage: ipykernel_launcher.py [--help] [--hydra-help] [--version]\n",
      "                             [--cfg {job,hydra,all}] [--package PACKAGE]\n",
      "                             [--run] [--multirun] [--shell-completion]\n",
      "                             [--config-path CONFIG_PATH]\n",
      "                             [--config-name CONFIG_NAME]\n",
      "                             [--config-dir CONFIG_DIR] [--info]\n",
      "                             [overrides [overrides ...]]\n",
      "ipykernel_launcher.py: error: unrecognized arguments: -f\n"
     ]
    },
    {
     "ename": "SystemExit",
     "evalue": "2",
     "output_type": "error",
     "traceback": [
      "An exception has occurred, use %tb to see the full traceback.\n",
      "\u001b[0;31mSystemExit\u001b[0m\u001b[0;31m:\u001b[0m 2\n"
     ]
    },
    {
     "name": "stderr",
     "output_type": "stream",
     "text": [
      "/home/dragon/miniconda3/envs/py36/lib/python3.6/site-packages/IPython/core/interactiveshell.py:3327: UserWarning: To exit: use 'exit', 'quit', or Ctrl-D.\n",
      "  warn(\"To exit: use 'exit', 'quit', or Ctrl-D.\", stacklevel=1)\n"
     ]
    }
   ],
   "source": [
    "v1, f1 = igl.read_triangle_mesh(index_pair[0])\n",
    "v2, f2 = igl.read_triangle_mesh(index_pair[1])\n",
    "#             meshplot.offline()\n",
    "# p = plot(v1, f, shading={\"point_size\": 0.2})\n",
    "# p.add_points(pts, shading={\"point_size\": 0.02, \"point_color\": \"blue\"})\n",
    "p = subplot(v1, f1, c=None, shading={\"point_size\": 0.2}, s=[1, 2, 0])\n",
    "subplot2 = subplot(v2, f2, c=None, shading={\"point_size\": 0.2}, s=[1, 2, 1], data=p)\n",
    "#             p.save(\"test2.html\")\n",
    "bp()\n",
    "# p.add_edges(v_box, f_box, shading={\"line_color\": \"red\"});\n",
    "# add_edges(vertices, edges, shading={}, obj=None)\n",
    "# add_lines(beginning, ending, shading={}, obj=None)\n",
    "# add_mesh(v, f, c=None, uv=None, shading={})\n",
    "# add_points(points, shading={}, obj=None)\n",
    "# add_text(text, shading={})\n",
    "# remove_object(obj_id)\n",
    "\n",
    "# reset()\n",
    "# to_html()\n",
    "# update()\n",
    "\n",
    "\n",
    "\n",
    "\n",
    "if __name__ == '__main__':\n",
    "    main()"
   ]
  }
 ],
 "metadata": {
  "kernelspec": {
   "display_name": "Python 3",
   "language": "python",
   "name": "python3"
  },
  "language_info": {
   "codemirror_mode": {
    "name": "ipython",
    "version": 3
   },
   "file_extension": ".py",
   "mimetype": "text/x-python",
   "name": "python",
   "nbconvert_exporter": "python",
   "pygments_lexer": "ipython3",
   "version": "3.6.9"
  }
 },
 "nbformat": 4,
 "nbformat_minor": 2
}
