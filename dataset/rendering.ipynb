{
 "cells": [
  {
   "cell_type": "markdown",
   "metadata": {},
   "source": [
    "# Rendering Demo\n",
    "Rendering utilities for ContactPose are defined in [utilities/rendering.py](utilities/rendering.py). Rendering requires [pyrender](https://pyrender.readthedocs.io/en/latest/#), which offers headless rendering.\n",
    "\n",
    "**First, follow the [pyrender setup instructions](docs/rendering.md).**"
   ]
  },
  {
   "cell_type": "markdown",
   "metadata": {},
   "source": [
    "Basic imports."
   ]
  },
  {
   "cell_type": "code",
   "execution_count": 1,
   "metadata": {},
   "outputs": [
    {
     "name": "stdout",
     "output_type": "stream",
     "text": [
      "MANO code was not detected, please follow steps in README.md. mano_meshes() will return (None, None)\n"
     ]
    }
   ],
   "source": [
    "# Copyright (c) Facebook, Inc. and its affiliates.\n",
    "# Code by Samarth Brahmbhatt\n",
    "%load_ext autoreload\n",
    "%autoreload 2\n",
    "%matplotlib notebook\n",
    "\n",
    "from utilities.dataset import ContactPose\n",
    "import utilities.misc as mutils\n",
    "import utilities.rendering as rutils\n",
    "import matplotlib.pyplot as plt\n",
    "import cv2\n",
    "import numpy as np\n",
    "\n",
    "p_num, intent, object_name = 28, 'use', 'bowl'\n",
    "cp = ContactPose(p_num, intent, object_name, root_dir = '/home/dragon/Dropbox/ICML2021/code/ContactPose/data')"
   ]
  },
  {
   "cell_type": "markdown",
   "metadata": {},
   "source": [
    "Function for creating the renderer objects."
   ]
  },
  {
   "cell_type": "code",
   "execution_count": 5,
   "metadata": {},
   "outputs": [],
   "source": [
    "def create_renderers(camera_name):\n",
    "    # renderer for object mesh\n",
    "    # note the mesh_scale, ContactPose object models are in units of mm \n",
    "    object_renderer = rutils.DepthRenderer(object_name, cp.K(camera_name), camera_name, mesh_scale=1e-3, root_dir = '/home/dragon/Dropbox/ICML2021/code/ContactPose/data')\n",
    "\n",
    "    # hand renderers\n",
    "    hand_renderers = []\n",
    "    for mesh in cp.mano_meshes():\n",
    "        if mesh is None:  # this hand is not present for this grasp\n",
    "            hand_renderers.append(None)\n",
    "        else:\n",
    "            renderer = rutils.DepthRenderer(mesh, cp.K(camera_name), camera_name, root_dir = '/home/dragon/Dropbox/ICML2021/code/ContactPose/data')\n",
    "            hand_renderers.append(renderer)\n",
    "    return {'object': object_renderer, 'hands': hand_renderers}"
   ]
  },
  {
   "cell_type": "markdown",
   "metadata": {},
   "source": [
    "Function for showing the rendering outputs."
   ]
  },
  {
   "cell_type": "code",
   "execution_count": 13,
   "metadata": {},
   "outputs": [],
   "source": [
    "def show_rendering_output(renderers, color_im, camera_name, frame_idx, crop_size=-1):\n",
    "    joints = cp.projected_hand_joints(camera_name, frame_idx)\n",
    "    if crop_size > 0:\n",
    "        color_im, _ = mutils.crop_image(color_im, joints, crop_size)\n",
    "    \n",
    "    # object rendering\n",
    "    object_rendering = renderers['object'].render(cp.object_pose(camera_name, frame_idx))\n",
    "    if crop_size > 0:\n",
    "        object_rendering, _ = mutils.crop_image(object_rendering, joints, crop_size)    \n",
    "    object_mask = object_rendering > 0\n",
    "    color_im[object_mask] = (0, 255, 255)  # yellow\n",
    "    \n",
    "    # hand rendering\n",
    "    both_hands_rendering = []\n",
    "    for renderer, mask_color in zip(renderers['hands'], ((0, 255, 0), (0, 0, 255))):\n",
    "        if renderer is None:  # this hand is not present for this grasp\n",
    "            continue\n",
    "        # hand meshes are already in the object coordinate system, so we can use\n",
    "        # object pose for rendering\n",
    "        rendering = renderer.render(cp.object_pose(camera_name, frame_idx))\n",
    "        if crop_size > 0:\n",
    "            rendering, _ = mutils.crop_image(rendering, joints, crop_size)\n",
    "        both_hands_rendering.append(rendering)\n",
    "        mask = rendering > 0\n",
    "        print(mask)\n",
    "        color_im[mask] = mask_color\n",
    "    both_hands_rendering = np.dstack(both_hands_rendering).max(2)\n",
    "    \n",
    "    # show\n",
    "    fig, (ax0, ax1, ax2) = plt.subplots(1, 3)\n",
    "    ax0.imshow(color_im[:, :, ::-1])\n",
    "    ax0.set_title('Masks')\n",
    "    ax1.imshow(object_rendering)\n",
    "    ax1.set_title('Object Depth')\n",
    "    ax2.imshow(both_hands_rendering)\n",
    "    ax2.set_title('Hand Depth')\n",
    "    fig.suptitle(camera_name)"
   ]
  },
  {
   "cell_type": "code",
   "execution_count": 14,
   "metadata": {},
   "outputs": [
    {
     "name": "stdout",
     "output_type": "stream",
     "text": [
      "Participant 28, intent use, object bowl\n",
      "558 frames\n",
      "Cameras present: kinect2_left kinect2_middle kinect2_right\n",
      "Hands present: left right\n"
     ]
    }
   ],
   "source": [
    "print(cp)"
   ]
  },
  {
   "cell_type": "markdown",
   "metadata": {},
   "source": [
    "Show outputs"
   ]
  },
  {
   "cell_type": "code",
   "execution_count": 15,
   "metadata": {
    "scrolled": true
   },
   "outputs": [
    {
     "ename": "ValueError",
     "evalue": "need at least one array to concatenate",
     "output_type": "error",
     "traceback": [
      "\u001b[0;31m---------------------------------------------------------------------------\u001b[0m",
      "\u001b[0;31mValueError\u001b[0m                                Traceback (most recent call last)",
      "\u001b[0;32m<ipython-input-15-8336a280e9fe>\u001b[0m in \u001b[0;36m<module>\u001b[0;34m\u001b[0m\n\u001b[1;32m      5\u001b[0m     \u001b[0mcolor_im\u001b[0m \u001b[0;34m=\u001b[0m \u001b[0mcv2\u001b[0m\u001b[0;34m.\u001b[0m\u001b[0mimread\u001b[0m\u001b[0;34m(\u001b[0m\u001b[0mcp\u001b[0m\u001b[0;34m.\u001b[0m\u001b[0mimage_filenames\u001b[0m\u001b[0;34m(\u001b[0m\u001b[0;34m'color'\u001b[0m\u001b[0;34m,\u001b[0m \u001b[0mframe_idx\u001b[0m\u001b[0;34m)\u001b[0m\u001b[0;34m[\u001b[0m\u001b[0mcamera_name\u001b[0m\u001b[0;34m]\u001b[0m\u001b[0;34m)\u001b[0m\u001b[0;34m\u001b[0m\u001b[0;34m\u001b[0m\u001b[0m\n\u001b[1;32m      6\u001b[0m     \u001b[0mrenderers\u001b[0m \u001b[0;34m=\u001b[0m \u001b[0mcreate_renderers\u001b[0m\u001b[0;34m(\u001b[0m\u001b[0mcamera_name\u001b[0m\u001b[0;34m)\u001b[0m\u001b[0;34m\u001b[0m\u001b[0;34m\u001b[0m\u001b[0m\n\u001b[0;32m----> 7\u001b[0;31m     \u001b[0mshow_rendering_output\u001b[0m\u001b[0;34m(\u001b[0m\u001b[0mrenderers\u001b[0m\u001b[0;34m,\u001b[0m \u001b[0mcolor_im\u001b[0m\u001b[0;34m,\u001b[0m \u001b[0mcamera_name\u001b[0m\u001b[0;34m,\u001b[0m \u001b[0mframe_idx\u001b[0m\u001b[0;34m,\u001b[0m \u001b[0mcrop_size\u001b[0m\u001b[0;34m)\u001b[0m\u001b[0;34m\u001b[0m\u001b[0;34m\u001b[0m\u001b[0m\n\u001b[0m\u001b[1;32m      8\u001b[0m \u001b[0mplt\u001b[0m\u001b[0;34m.\u001b[0m\u001b[0mshow\u001b[0m\u001b[0;34m(\u001b[0m\u001b[0;34m)\u001b[0m\u001b[0;34m\u001b[0m\u001b[0;34m\u001b[0m\u001b[0m\n",
      "\u001b[0;32m<ipython-input-13-ae9b0b35a5c2>\u001b[0m in \u001b[0;36mshow_rendering_output\u001b[0;34m(renderers, color_im, camera_name, frame_idx, crop_size)\u001b[0m\n\u001b[1;32m     25\u001b[0m         \u001b[0mprint\u001b[0m\u001b[0;34m(\u001b[0m\u001b[0mmask\u001b[0m\u001b[0;34m)\u001b[0m\u001b[0;34m\u001b[0m\u001b[0;34m\u001b[0m\u001b[0m\n\u001b[1;32m     26\u001b[0m         \u001b[0mcolor_im\u001b[0m\u001b[0;34m[\u001b[0m\u001b[0mmask\u001b[0m\u001b[0;34m]\u001b[0m \u001b[0;34m=\u001b[0m \u001b[0mmask_color\u001b[0m\u001b[0;34m\u001b[0m\u001b[0;34m\u001b[0m\u001b[0m\n\u001b[0;32m---> 27\u001b[0;31m     \u001b[0mboth_hands_rendering\u001b[0m \u001b[0;34m=\u001b[0m \u001b[0mnp\u001b[0m\u001b[0;34m.\u001b[0m\u001b[0mdstack\u001b[0m\u001b[0;34m(\u001b[0m\u001b[0mboth_hands_rendering\u001b[0m\u001b[0;34m)\u001b[0m\u001b[0;34m.\u001b[0m\u001b[0mmax\u001b[0m\u001b[0;34m(\u001b[0m\u001b[0;36m2\u001b[0m\u001b[0;34m)\u001b[0m\u001b[0;34m\u001b[0m\u001b[0;34m\u001b[0m\u001b[0m\n\u001b[0m\u001b[1;32m     28\u001b[0m \u001b[0;34m\u001b[0m\u001b[0m\n\u001b[1;32m     29\u001b[0m     \u001b[0;31m# show\u001b[0m\u001b[0;34m\u001b[0m\u001b[0;34m\u001b[0m\u001b[0;34m\u001b[0m\u001b[0m\n",
      "\u001b[0;32m<__array_function__ internals>\u001b[0m in \u001b[0;36mdstack\u001b[0;34m(*args, **kwargs)\u001b[0m\n",
      "\u001b[0;32m~/.local/lib/python3.6/site-packages/numpy/lib/shape_base.py\u001b[0m in \u001b[0;36mdstack\u001b[0;34m(tup)\u001b[0m\n\u001b[1;32m    721\u001b[0m     \u001b[0;32mif\u001b[0m \u001b[0;32mnot\u001b[0m \u001b[0misinstance\u001b[0m\u001b[0;34m(\u001b[0m\u001b[0marrs\u001b[0m\u001b[0;34m,\u001b[0m \u001b[0mlist\u001b[0m\u001b[0;34m)\u001b[0m\u001b[0;34m:\u001b[0m\u001b[0;34m\u001b[0m\u001b[0;34m\u001b[0m\u001b[0m\n\u001b[1;32m    722\u001b[0m         \u001b[0marrs\u001b[0m \u001b[0;34m=\u001b[0m \u001b[0;34m[\u001b[0m\u001b[0marrs\u001b[0m\u001b[0;34m]\u001b[0m\u001b[0;34m\u001b[0m\u001b[0;34m\u001b[0m\u001b[0m\n\u001b[0;32m--> 723\u001b[0;31m     \u001b[0;32mreturn\u001b[0m \u001b[0m_nx\u001b[0m\u001b[0;34m.\u001b[0m\u001b[0mconcatenate\u001b[0m\u001b[0;34m(\u001b[0m\u001b[0marrs\u001b[0m\u001b[0;34m,\u001b[0m \u001b[0;36m2\u001b[0m\u001b[0;34m)\u001b[0m\u001b[0;34m\u001b[0m\u001b[0;34m\u001b[0m\u001b[0m\n\u001b[0m\u001b[1;32m    724\u001b[0m \u001b[0;34m\u001b[0m\u001b[0m\n\u001b[1;32m    725\u001b[0m \u001b[0;34m\u001b[0m\u001b[0m\n",
      "\u001b[0;32m<__array_function__ internals>\u001b[0m in \u001b[0;36mconcatenate\u001b[0;34m(*args, **kwargs)\u001b[0m\n",
      "\u001b[0;31mValueError\u001b[0m: need at least one array to concatenate"
     ]
    }
   ],
   "source": [
    "frame_idx = np.random.choice(len(cp))\n",
    "crop_size = 400\n",
    "plt.close('all')\n",
    "for camera_name in ('kinect2_left', 'kinect2_right', 'kinect2_middle'):\n",
    "    color_im = cv2.imread(cp.image_filenames('color', frame_idx)[camera_name])\n",
    "    renderers = create_renderers(camera_name)\n",
    "    show_rendering_output(renderers, color_im, camera_name, frame_idx, crop_size)\n",
    "plt.show()"
   ]
  },
  {
   "cell_type": "code",
   "execution_count": null,
   "metadata": {},
   "outputs": [],
   "source": []
  }
 ],
 "metadata": {
  "kernelspec": {
   "display_name": "Python 3",
   "language": "python",
   "name": "python3"
  },
  "language_info": {
   "codemirror_mode": {
    "name": "ipython",
    "version": 3
   },
   "file_extension": ".py",
   "mimetype": "text/x-python",
   "name": "python",
   "nbconvert_exporter": "python",
   "pygments_lexer": "ipython3",
   "version": "3.6.9"
  }
 },
 "nbformat": 4,
 "nbformat_minor": 4
}
